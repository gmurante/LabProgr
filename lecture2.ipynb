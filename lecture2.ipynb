{
 "cells": [
  {
   "cell_type": "markdown",
   "metadata": {},
   "source": [
    "# Introduction"
   ]
  },
  {
   "cell_type": "markdown",
   "metadata": {},
   "source": [
    "In this part of the course we will show the essential elements of the language in real simple programs, but without getting bogged down in details, rules, and exceptions. We will introduce some simple usage of the compiler and makefile."
   ]
  },
  {
   "cell_type": "markdown",
   "metadata": {},
   "source": [
    "Here is the first program: the hello word\n"
   ]
  },
  {
   "cell_type": "code",
   "execution_count": 5,
   "metadata": {},
   "outputs": [
    {
     "name": "stdout",
     "output_type": "stream",
     "text": [
      "Salve, mondo\n"
     ]
    }
   ],
   "source": [
    "#include \"stdio.h\"\n",
    "\n",
    "int main() {\n",
    "    printf(\"Salve, mondo\\n\");\n",
    "}"
   ]
  },
  {
   "cell_type": "markdown",
   "metadata": {},
   "source": [
    "From the shell you must compile your code. In linux che compiler is GCC (Gnu Compiler Collection) https://gcc.gnu.org/."
   ]
  },
  {
   "cell_type": "raw",
   "metadata": {},
   "source": [
    "$ gcc main.c -o main.x"
   ]
  },
  {
   "cell_type": "markdown",
   "metadata": {},
   "source": [
    "This will create a main.x file on the local directory. To execute it "
   ]
  },
  {
   "cell_type": "raw",
   "metadata": {},
   "source": [
    "$ ./main.x"
   ]
  },
  {
   "cell_type": "markdown",
   "metadata": {},
   "source": [
    "## main function\n",
    "\n",
    "A C program, whatever its size, consists of functions and variables. \n",
    "A function contains statements that specify the computing operations to be done, and variables store values used during the computation.\n",
    "\n",
    "Normally you are at liberty to give functions whatever names you like, but \"main\" is special: your program begins executing at the beginning of main. \n",
    "\n",
    "This means that every program must have a main somewhere.\n",
    "\n",
    "The program begins with the include statement.  The #include directive tells the preprocessor to insert the contents of another file into the source code at the point where the #include directive is found. \n",
    "\n",
    "Include directives are typically used to include the C header files for C functions that are held outsite of the current source file.\n",
    "\n"
   ]
  },
  {
   "cell_type": "raw",
   "metadata": {},
   "source": [
    "#include"
   ]
  },
  {
   "cell_type": "markdown",
   "metadata": {},
   "source": [
    "tells the compiler to include information about the standard input/output library. "
   ]
  },
  {
   "cell_type": "markdown",
   "metadata": {},
   "source": [
    "**Exercise 1-1** Run the \"hello, world\" program on your system. Experiment withleavingoutpartsoftheprogram,toseewhaterrormessagesyouget. \n",
    "\n",
    "**Exercise 1-2** Experiment to find out what happens when printf's argument string contains \\c, where c is some character not listed above. \n"
   ]
  },
  {
   "cell_type": "markdown",
   "metadata": {},
   "source": [
    "## More complex programs\n",
    "\n",
    "The next program uses the formula C = (5/9)(F-32) to print  Fahrenheit temperatures and their centigrade or Celsius equivalents:\n"
   ]
  },
  {
   "cell_type": "code",
   "execution_count": 13,
   "metadata": {},
   "outputs": [
    {
     "name": "stdout",
     "output_type": "stream",
     "text": [
      "0\t-17\n",
      "20\t-6\n",
      "40\t4\n",
      "60\t15\n",
      "80\t26\n",
      "100\t37\n",
      "120\t48\n",
      "140\t60\n",
      "160\t71\n",
      "180\t82\n",
      "200\t93\n",
      "220\t104\n",
      "240\t115\n",
      "260\t126\n",
      "280\t137\n",
      "300\t148\n"
     ]
    }
   ],
   "source": [
    "#include <stdio.h>\n",
    "/* stampa la tabella Fahrenheit - Celsius per fahr = 0, 20, .........., 300 */ \n",
    "\n",
    "int main() {\n",
    "    int fahr, celsius;\n",
    "    int lower, upper, step;\n",
    "    lower=0;    /* limite inferiore della tabella */\n",
    "    upper=300; /* limite superiore */\n",
    "    step=20;   /* incremento */ \n",
    "    fahr=lower;\n",
    "    while (fahr<=upper)\n",
    "        {\n",
    "            celsius=5*(fahr-32)/9;\n",
    "            printf(\"%d\\t%d\\n\", fahr, celsius);\n",
    "            fahr=fahr+step;\n",
    "        }\n",
    "}\n",
    "\n"
   ]
  },
  {
   "cell_type": "markdown",
   "metadata": {},
   "source": [
    "The \"while\" cycle can be also in-line"
   ]
  },
  {
   "cell_type": "markdown",
   "metadata": {},
   "source": [
    "while (i<j)\n",
    "\n",
    "          i=2*j;\n"
   ]
  },
  {
   "cell_type": "markdown",
   "metadata": {},
   "source": [
    "## The use of floating point operations"
   ]
  },
  {
   "cell_type": "code",
   "execution_count": 15,
   "metadata": {},
   "outputs": [
    {
     "name": "stdout",
     "output_type": "stream",
     "text": [
      "  0  -17.8\n",
      " 20   -6.7\n",
      " 40    4.4\n",
      " 60   15.6\n",
      " 80   26.7\n",
      "100   37.8\n",
      "120   48.9\n",
      "140   60.0\n",
      "160   71.1\n",
      "180   82.2\n",
      "200   93.3\n",
      "220  104.4\n",
      "240  115.6\n",
      "260  126.7\n",
      "280  137.8\n",
      "300  148.9\n"
     ]
    }
   ],
   "source": [
    "#include  <stdio.h>\n",
    "/* stampa una tabella Fahrenheit - Celsius per fahr = 0, 20, ........, 300; versione con floating-point */\n",
    "int main() {\n",
    "    float fahr, celsius;\n",
    "    int lower, upper, step;\n",
    "    lower=0;\n",
    "    upper=300;\n",
    "    step=20;\n",
    "    fahr=lower;\n",
    "    while (fahr<=upper)\n",
    "        {\n",
    "            celsius=(5.0/9.0)*(fahr-32); \n",
    "            printf(\"%3.0f %6.1f\\n\", fahr, celsius); \n",
    "            fahr=fahr+step;\n",
    "         }\n",
    "}"
   ]
  },
  {
   "cell_type": "markdown",
   "metadata": {},
   "source": [
    "%d     stampa un intero decimale\n",
    "\n",
    "%6d    stampa un intero decimale in un campo di almeno sei caratteri\n",
    "\n",
    "%f     stampa un numero frazionario\n",
    "\n",
    "%6f    stampa un numero frazionario in un campo di almeno sei caratteri\n",
    "\n",
    "%.2f   stampa un numero frazionario, con due cifre dopo il punto decimale\n",
    "\n",
    "%6.2f  stampa un numero frazionario, in un campo di almeno sei caratteri e con almeno due cifre dopo il punto decimale\n"
   ]
  },
  {
   "cell_type": "markdown",
   "metadata": {},
   "source": [
    "## FOR loops\n",
    "\n",
    "A for loop is a repetition control structure that allows you to efficiently write a loop that needs to execute a specific number of times.\n"
   ]
  },
  {
   "cell_type": "code",
   "execution_count": 3,
   "metadata": {},
   "outputs": [
    {
     "name": "stdout",
     "output_type": "stream",
     "text": [
      "  0  -17.8\n",
      " 20   -6.7\n",
      " 40    4.4\n",
      " 60   15.6\n",
      " 80   26.7\n",
      "100   37.8\n",
      "120   48.9\n",
      "140   60.0\n",
      "160   71.1\n",
      "180   82.2\n",
      "200   93.3\n",
      "220  104.4\n",
      "240  115.6\n",
      "260  126.7\n",
      "280  137.8\n",
      "300  148.9\n"
     ]
    }
   ],
   "source": [
    "#include  <stdio.h>\n",
    "/* stampa la tabella Fahrenheit - Celsius */ \n",
    "int main() {\n",
    "        int fahr;\n",
    "        for (fahr=0; fahr<=300; fahr=fahr+20) printf(\"%3d %6.1f\\n\", fahr, (5.0/9.0)*(fahr-32));\n",
    "}"
   ]
  },
  {
   "cell_type": "markdown",
   "metadata": {},
   "source": [
    "Another example of loop cycle on integer not in-line"
   ]
  },
  {
   "cell_type": "code",
   "execution_count": 4,
   "metadata": {},
   "outputs": [
    {
     "name": "stdout",
     "output_type": "stream",
     "text": [
      "0 \n",
      "1 \n",
      "2 \n",
      "3 \n",
      "4 \n",
      "5 \n",
      "6 \n",
      "7 \n",
      "8 \n",
      "9 \n"
     ]
    }
   ],
   "source": [
    "#include  <stdio.h>\n",
    "/* stampa la tabella Fahrenheit - Celsius */ \n",
    "int main() {\n",
    "        int fahr;\n",
    "        int i;\n",
    "        for (i=0; i<10; i=i+1) {\n",
    "            printf(\"%d \\n\", i);\n",
    "        }\n",
    "}"
   ]
  },
  {
   "cell_type": "markdown",
   "metadata": {},
   "source": [
    "**Exercise 1-5.** Modify the temperature conversion program to print the table in reverse order, that is, from 300 degrees to O.\n",
    "\n",
    "## Symbolic constants\n",
    "\n",
    "It's bad practice to bury \"magic numbers\" like 300 and 20 in a program; they convey little information to someone who might have to read the program later, and they are hard to change In a systematic way. One way to deal with magic numbers is to give them meaningful names. A #define line defines a sym- bolic name or symbolic constant to be a particular string of characters:\n"
   ]
  },
  {
   "cell_type": "markdown",
   "metadata": {},
   "source": [
    "#define nome testo da sostituire"
   ]
  },
  {
   "cell_type": "code",
   "execution_count": 5,
   "metadata": {},
   "outputs": [
    {
     "name": "stdout",
     "output_type": "stream",
     "text": [
      "  0  -17.8\n",
      " 20   -6.7\n",
      " 40    4.4\n",
      " 60   15.6\n",
      " 80   26.7\n",
      "100   37.8\n",
      "120   48.9\n",
      "140   60.0\n",
      "160   71.1\n",
      "180   82.2\n",
      "200   93.3\n",
      "220  104.4\n",
      "240  115.6\n",
      "260  126.7\n",
      "280  137.8\n",
      "300  148.9\n"
     ]
    }
   ],
   "source": [
    "#include <stdio.h>\n",
    "\n",
    "#define LOWER 0 /* limite inferiore della tabella */ \n",
    "#define UPPER 300 /* limite superiore */\n",
    "#define STEP 20 /* incremento */\n",
    "\n",
    "/* stampa la tabella Fahrenheit - Celsius */ \n",
    "int main() {\n",
    "    int fahr;\n",
    "    for (fahr=LOWER; fahr<=UPPER; fahr=fahr+STEP) printf(\"%3d %6.1f\\n\", fahr, (5.0/9.0)*(fahr-32));\n",
    "}"
   ]
  },
  {
   "cell_type": "markdown",
   "metadata": {},
   "source": [
    "LOWER, UPPER and STEP are symbolic constants, not variables so we do not define them!\n",
    "\n",
    "## Character Input/Output \n",
    "\n",
    "The model of input and output supported by the standard library is very simple. Text input or output, regardless of where it originates or where it goes to, is dealt with as streams of characters, A text stream is a sequence of characters divided into lines; each line consists of zero or more characters followed by a new line character.\n"
   ]
  },
  {
   "cell_type": "markdown",
   "metadata": {},
   "source": [
    "putchar();\n",
    "getchar();"
   ]
  },
  {
   "cell_type": "code",
   "execution_count": 6,
   "metadata": {},
   "outputs": [],
   "source": [
    "#include  <stdio.h>\n",
    "/* copia l’input sull’output; prima versione */ \n",
    "int main() {\n",
    "    int c;\n",
    "    c=getchar();\n",
    "    while (c!=EOF)\n",
    "    {\n",
    "        putchar(c);\n",
    "        c=getchar();\n",
    "    }\n",
    "}"
   ]
  },
  {
   "cell_type": "markdown",
   "metadata": {},
   "source": [
    "in a more compact form"
   ]
  },
  {
   "cell_type": "code",
   "execution_count": 7,
   "metadata": {},
   "outputs": [],
   "source": [
    "#include  <stdio.h>\n",
    "/* copia l’input sull’output; seconda versione */ \n",
    "int main()\n",
    "{\n",
    "    int c;\n",
    "    while ((c=getchar()) != EOF ) putchar(c);\n",
    "}"
   ]
  },
  {
   "cell_type": "markdown",
   "metadata": {},
   "source": [
    "**Exercise 1-6.** Verify that the expression qetchar () !=EOF is 0 or 1. \n",
    "**Exercise 1-7.** Write a program to print the value of EOF.\n",
    "\n",
    "## count characters\n",
    "\n",
    "The next program counts characters;"
   ]
  },
  {
   "cell_type": "code",
   "execution_count": 8,
   "metadata": {},
   "outputs": [],
   "source": [
    "#include  <stdio.h>\n",
    "/* conta i caratteri; prima versione */\n",
    "int  main() {\n",
    "    long nc;\n",
    "    nc=0;\n",
    "    while (getchar()!=EOF) ++nc;\n",
    "    printf(\"%ld\\n\", nc);\n",
    "}"
   ]
  },
  {
   "cell_type": "markdown",
   "metadata": {},
   "source": [
    "Two new expressions"
   ]
  },
  {
   "cell_type": "markdown",
   "metadata": {},
   "source": [
    "++nc"
   ]
  },
  {
   "cell_type": "markdown",
   "metadata": {},
   "source": [
    "**++** means increment by one. You could instead write nc =nc+ 1 but ++nc is more conciseand often more efficient. There is a correspondingoperator -- to decrement by 1."
   ]
  },
  {
   "cell_type": "markdown",
   "metadata": {},
   "source": [
    "long nc \n",
    "%ld"
   ]
  },
  {
   "cell_type": "markdown",
   "metadata": {},
   "source": [
    "long integers are at least 32 bit\n",
    "\n",
    "%ld tells printf that the corresponding argument is a long integer."
   ]
  },
  {
   "cell_type": "code",
   "execution_count": 9,
   "metadata": {},
   "outputs": [
    {
     "name": "stdout",
     "output_type": "stream",
     "text": [
      "0\n"
     ]
    }
   ],
   "source": [
    "#include  <stdio.h>\n",
    "      /* conta i caratteri; seconda versione */\n",
    "int main() {\n",
    "    double nc;\n",
    "    for (nc=0; getchar()!=EOF; ++nc) ;\n",
    "    printf(\"%.0f\\n\", nc);\n",
    "}\n"
   ]
  },
  {
   "cell_type": "markdown",
   "metadata": {},
   "source": [
    "To test it you must compile it. And use it to parse a file."
   ]
  },
  {
   "cell_type": "raw",
   "metadata": {},
   "source": [
    "gcc main.c -o main.x "
   ]
  },
  {
   "cell_type": "raw",
   "metadata": {},
   "source": [
    "./main.x < main.c"
   ]
  },
  {
   "cell_type": "markdown",
   "metadata": {},
   "source": [
    "%.Of suppresses printing of the decimal point and the fraction part.\n",
    "\n",
    "The body of this for loop is empty, because all of the work is done in the test and increment part.\n",
    "\n",
    "## count lines"
   ]
  },
  {
   "cell_type": "code",
   "execution_count": 10,
   "metadata": {},
   "outputs": [
    {
     "name": "stdout",
     "output_type": "stream",
     "text": [
      "0\n"
     ]
    }
   ],
   "source": [
    "#include  <stdio.h>\n",
    "/* conta le linee in input */\n",
    "int    main() {\n",
    "        int c, nl;\n",
    "        nl=0;\n",
    "        while ((c=getchar()) != EOF) {\n",
    "            if (c=='\\n') { \n",
    "                ++nl;\n",
    "                }\n",
    "            }\n",
    "        printf(\"%d\\n\", nl);\n",
    "}\n"
   ]
  },
  {
   "cell_type": "markdown",
   "metadata": {},
   "source": [
    "**Exercise 1..8** Write a program to count blanks, tabs, and newlines. \n",
    "\n",
    "**Exercise 1-9.** Write a program to copy its input to its output, replacing each string of one or more blanks by a single blank. \n",
    "\n",
    "**Exercise 1-10.** Write a program to copy its input to its output, replacing each tab by *\\t*, each backspace by *\\b*, and each backslash by *\\\\*. Thismakestabs and backspaces visible in an unambiguous way. \n",
    "\n",
    "## Count words\n"
   ]
  },
  {
   "cell_type": "code",
   "execution_count": 11,
   "metadata": {},
   "outputs": [],
   "source": [
    "#include  <stdio.h>\n",
    "#define IN 1   /* all’interno di una parola */ \n",
    "#define OUT 0  /* all’esterno di una parola */\n",
    "/* conta linee, parole e caratteri in input */ \n",
    "int main()\n",
    "{\n",
    "    int c, nl, nw, nc, state;\n",
    "    state=OUT;\n",
    "    nl=nw=nc=0;\n",
    "    while ((c=getchar()) != EOF)\n",
    "    {\n",
    "        ++nc;\n",
    "    \n",
    "        if (c=='\\n') ++nl;\n",
    "        if (c==' '  ||  c=='\\n'  ||  c=='\\t') \n",
    "                state=OUT;\n",
    "        else if (state==OUT)\n",
    "        {\n",
    "            state=IN;\n",
    "            ++nw; \n",
    "        }\n",
    "    }\n",
    "    printf(\"%d %d %d\\n\", nl, nw, nc);\n",
    "}\n"
   ]
  },
  {
   "cell_type": "markdown",
   "metadata": {},
   "source": [
    "## Arrays\n",
    "\n",
    "Let us write a program to count the number of occurrences of each digit, of white space characters (blank, tab, newline), and of all other characters. There are twelve categories of input, so it is convenient to use an array to hold the number of occurrences of each digit, rather than ten individual variables. \n"
   ]
  },
  {
   "cell_type": "code",
   "execution_count": 12,
   "metadata": {},
   "outputs": [
    {
     "name": "stdout",
     "output_type": "stream",
     "text": [
      "cifre = 0 0 0 0 0 0 0 0 0 0, spaziature = 0, altri = 0\n"
     ]
    }
   ],
   "source": [
    "#include  <stdio.h>\n",
    "/* conta le cifre, le spaziature e gli altri caratteri */ \n",
    "int main()\n",
    "{\n",
    "    int c, i, nwhite, nother;\n",
    "    int ndigit[10];\n",
    "    nwhite=nother=0;\n",
    "    for (i=0; i<10; ++i)\n",
    "            ndigit[i]=0;\n",
    "    while ((c=getchar()) != EOF) {\n",
    "        if (c>='0'  &&  c<='9')\n",
    "            ++ndigit[c-'0'];\n",
    "        else if (c==' '  ||  c=='\\n'  || c=='\\t')\n",
    "            ++nwhite;\n",
    "        else\n",
    "            ++nother;\n",
    "        }\n",
    "    printf(\"cifre =\");\n",
    "    for (i=0; i<10; ++i)\n",
    "        printf(\" %d\", ndigit[i]);\n",
    "    printf(\", spaziature = %d, altri = %d\\n\", nwhite, nother);\n",
    "}"
   ]
  },
  {
   "cell_type": "markdown",
   "metadata": {},
   "source": [
    "**Exercise 1-13.** Write a program to print a histogram of the lengths of words in its input. It is easy to draw the histogram with the bars horizontal; a vertical orientation is more challenging. \n",
    "\n",
    "**Exercise 1-14.** Write a program to print a histogram of the frequencies of different characters in its input. \n",
    "\n",
    "## Functions\n",
    "\n",
    "A function provides a convenient way to encapsulate some computation, which can then be used without worrying about its implementation. \n",
    "\n",
    "So far we have used only functions like *printf*, *getchar*, and *putchar* that have been provided for us; Now we can write our owns.\n",
    "\n",
    "This is teh \"prototype of a function\""
   ]
  },
  {
   "cell_type": "raw",
   "metadata": {},
   "source": [
    "return-type function-name (parameter declarations, if any) {\n",
    "    declarations\n",
    "    statements\n",
    "}"
   ]
  },
  {
   "cell_type": "markdown",
   "metadata": {},
   "source": [
    "This is an example based on POW"
   ]
  },
  {
   "cell_type": "code",
   "execution_count": 49,
   "metadata": {},
   "outputs": [
    {
     "name": "stdout",
     "output_type": "stream",
     "text": [
      "0 1 1\n",
      "1 2 -3\n",
      "2 4 9\n",
      "3 8 -27\n",
      "4 16 81\n",
      "5 32 -243\n",
      "6 64 729\n",
      "7 128 -2187\n",
      "8 256 6561\n",
      "9 512 -19683\n"
     ]
    }
   ],
   "source": [
    "#include  <stdio.h>\n",
    "int power(int m, int n); /* usa la funzione power */\n",
    "int   main() {\n",
    "    int i;\n",
    "    for (i=0; i<10; ++i)\n",
    "        printf(\"%d %d %d\\n\", i, power(2,i), power(-3,i));\n",
    "    return 0;\n",
    "}\n",
    "\n",
    "/* power: eleva base all’n-esima potenza; n >= 0 */ \n",
    "int power(int base, int n)\n",
    "{\n",
    "    int i, p;\n",
    "    p=1;\n",
    "    for (i=1; i<= n; ++i)\n",
    "        p=p*base;\n",
    "    return p;\n",
    "}"
   ]
  },
  {
   "cell_type": "markdown",
   "metadata": {},
   "source": [
    "\n",
    "In large projects we divide functions by the main program: functions should be  in different source files.\n",
    "\n",
    "In C, all function arguments are passed \"by value.\" This means that the called function is given the values of its arguments in temporary variables rather than the originals.\n",
    "\n",
    "## Character Arrays\n",
    "The most common type of array in C is the array of characters.\n",
    "\n",
    "Let's write a program that reads a set of text lines and prints the longest."
   ]
  },
  {
   "cell_type": "raw",
   "metadata": {},
   "source": [
    "while (there's another line)\n",
    "    if (it's longer than the previous longest)\n",
    "        save it\n",
    "        save its length \n",
    "print longest line"
   ]
  },
  {
   "cell_type": "markdown",
   "metadata": {},
   "source": [
    "We divide our code in 3 functions: main, getline, copy"
   ]
  },
  {
   "cell_type": "code",
   "execution_count": 54,
   "metadata": {},
   "outputs": [],
   "source": [
    "#include <stdio.h>\n",
    "#define MAXLINE 1000 /* lunghezza massima di una linea */\n",
    "int  getline(char line[], int maxline);\n",
    "void  copy(char to[], char from[]);\n",
    "\n",
    "/* stampa la linea di input più lunga */\n",
    "int  main() {\n",
    " int  len;                /* lunghezza della linea corrente */\n",
    " int  max;                /* massima lunghezza trovata sinora */\n",
    " char  line[MAXLINE];     /* linea di input corrente */\n",
    " char  longest[MAXLINE];  /* linea più lunga salvata qui */\n",
    "\n",
    "\n",
    " max=0;\n",
    " while ((len=getline(line, MAXLINE))>0)\n",
    "    if (len>max) {\n",
    "        max=len;\n",
    "        copy(longest, line);\n",
    "    }\n",
    "\n",
    " if (max>0) /* cerca almeno una linea in input */ \n",
    "     printf(\"%s\", longest);\n",
    " return 0; \n",
    "\n",
    "}\n",
    " \n",
    "/* getline: legge e carica in s una linea, ritorna la lunghezza */ \n",
    "int getline(char s[], int lim) {\n",
    "  int c, i;\n",
    "  for (i=0; i<lim-1 && (c=getchar())!=EOF && c!='\\n'; ++i) s[i]=c;\n",
    "  if (c=='\\n') {\n",
    "    s[i]=c;\n",
    "    ++i; \n",
    "  }\n",
    "  s[i]='\\0';\n",
    "  return i; \n",
    "}\n",
    "\n",
    "/* copy: copia ‘from’ in ‘to’; assume che ‘to’ sia sufficientemente ampio */\n",
    "void copy(char to[], char from[]) {\n",
    "  int i;\n",
    "  i=0;\n",
    "  while ((to[i]=from[i])!='\\0') \n",
    "          ++i;\n",
    "}\n"
   ]
  },
  {
   "cell_type": "markdown",
   "metadata": {},
   "source": [
    "**Exercise 1-16.** Revise the main routine of the longest-line program so it will correctly print the length of arbitrarily long input lines, and as much as possible of the text.\n",
    "\n",
    "**Exercise 1-17.** Write a program to print all input lines that are longer than 80 characters. \n",
    "\n",
    "**Exercise 1-18.** Write a program to remove trailing blanks and tabs from each line of input, and to delete entirely blank lines. \n",
    "\n",
    "**Exercise 1-19.** Write a function reverse (s) that reverses the character strings. Use it to write a program that reverses its input a line at a time.\n",
    "\n",
    "## External Variables and Scope\n",
    "\n",
    "The variables in main such as line, longest, etc., are private or local to main. The same is true of the variables in other functions; for example, the variable i in getline is unrelated to the i in copy. Each local variable in a function comes into existence only when the function is called, and disappears when the function is exited. This is why such variables are usually known as *automatic* variables.\n",
    "\n",
    "It is possible to define variables that are *external* to all functions, that is, variables that can be accessed by name by any function.\n",
    "\n",
    "The variable must also be declared in each function that wants to access it; this states the type of the variable. \n",
    "\n",
    "The declaration may be an explicit *extern* statement or may be implicit from context.\n",
    "\n",
    "Let see an example"
   ]
  },
  {
   "cell_type": "code",
   "execution_count": 59,
   "metadata": {},
   "outputs": [],
   "source": [
    "#include <stdio.h>\n",
    "#define MAXLINE 1000   /* lunghezza massima di una linea */\n",
    "int max;               /* massima lunghezza trovata sinora */ \n",
    "char line[MAXLINE];    /* linea di input corrente */\n",
    "char longest[MAXLINE]; /*lineapiùlungasalvataqui*/\n",
    "\n",
    "int  getline(void);\n",
    "void  copy(void);\n",
    "\n",
    "/* stampa la linea di input più lunga; seconda versione */ \n",
    "int main()\n",
    "{\n",
    "  int len;\n",
    "  extern int max;\n",
    "  extern char longest[MAXLINE];\n",
    "  max=0;\n",
    "  while ((len=getline())>0)\n",
    "    if (len>max) {\n",
    "      max=len;\n",
    "      copy();\n",
    "    }\n",
    "  if (max>0)       /* c’era almeno una linea in input */ \n",
    "      printf(\"%s\", longest);\n",
    "  return 0; \n",
    "  \n",
    "}\n",
    "  \n",
    "/* getline: seconda versione */\n",
    "int  getline(void) {\n",
    "  int c, i;\n",
    "  extern char line[];\n",
    "  for (i=0; i<MAXLINE-1 && (c=getchar())!=EOF && c!='\\n'; ++i) line[i]=c;\n",
    "    if (c=='\\n') {\n",
    "      line[i]=c;\n",
    "      ++i;\n",
    "    }\n",
    "  line[i]='\\0';\n",
    "  return i; \n",
    "  \n",
    "}\n",
    "\n",
    "/* copy: seconda versione */\n",
    "void  copy(void){\n",
    "    int i;\n",
    "    extern char line[], longest[];\n",
    "    i=0;\n",
    "    while ((longest[i]=line[i])!='\\0')\n",
    "       ++i;\n",
    "}"
   ]
  },
  {
   "cell_type": "markdown",
   "metadata": {},
   "source": [
    "**Exercise 1-20.** Write a program detab that replaces tabs in the input with the proper number of blanks to space to the next tab stop. Assume a fixed set of tab stops, say every n columns. Should n be a variable or a symbolic parameter? \n",
    "**Exercise 1-21.** Write a program entab that replaces strings of blanks by the minimum number of tabs and blanks to achieve the same spacing. Use the same tab stops as for detab. When either a tab or a single blank would suffice to reach a tab stop, which should be given preference? \n",
    "\n",
    "**Exercise 1-22.** Write a program to \"fold\" long input lines into two or more shorter lines after the last non-blank character that occurs before the n-th column of input. Make sure your program does something intelligent with very long lines, and if there are no blanks or tabs before the specified column. \n",
    "\n",
    "**Exercise 1-23.** Write a program to remove all comments from a C program. Don't forget to handle quoted strings and character constants properly. C comments do not nest. \n",
    "\n",
    "**Exercise 1-24.** Write a program to check a C program for rudimentary syntax errors like unbalanced parentheses, brackets and braces. Don't forget about quotes, both single and double, escape sequences, and comments. (This program is hard if you do it in full generality.) "
   ]
  },
  {
   "cell_type": "code",
   "execution_count": null,
   "metadata": {},
   "outputs": [],
   "source": []
  }
 ],
 "metadata": {
  "kernelspec": {
   "display_name": "C",
   "language": "c",
   "name": "c"
  },
  "language_info": {
   "file_extension": ".c",
   "mimetype": "text/plain",
   "name": "c"
  }
 },
 "nbformat": 4,
 "nbformat_minor": 4
}
