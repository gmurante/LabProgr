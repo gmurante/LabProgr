{
 "cells": [
  {
   "cell_type": "markdown",
   "metadata": {},
   "source": [
    "# Lecure II: Types, Operators,  Expressions and Functions\n",
    "\n",
    "Variables and constants are the basic data objects manipulated in a program. Declarations list the variables to be used, and state what type they have and perhaps what their initial values are. Operators specify what is to be done to them. Expressions combine variables and constants to produce new values. The type of an object determines the set of values it can have and what operations can be performed on it.\n",
    "\n",
    "## Variables\n",
    "\n",
    "Names are made up of letters and digits; the first character must be a letter. The underscore \"_\" counts as a letter; it is sometimes useful for improving the readability of long variable names. Don't begin variable names with underscore, however,since library routines often use such names. Upper case and lower case letters are distinct, so x and X are two different names. Traditional C practice is to use lower case for variable names, and all upper case for symbolic constants.\n",
    "\n",
    "~~~C\n",
    "char   // a single byte, capable of holding one character in the local character set.\n",
    "\n",
    "int    // an integer, typically reflecting the natural size of integers on the host machine.\n",
    "    \n",
    "float  // single-precision floating point. \n",
    "\n",
    "double // double-precision floating point.\n",
    "~~~\n",
    "  "
   ]
  },
  {
   "cell_type": "code",
   "execution_count": null,
   "metadata": {},
   "outputs": [],
   "source": []
  }
 ],
 "metadata": {
  "kernelspec": {
   "display_name": "C",
   "language": "c",
   "name": "c"
  },
  "language_info": {
   "file_extension": ".c",
   "mimetype": "text/plain",
   "name": "c"
  }
 },
 "nbformat": 4,
 "nbformat_minor": 4
}
